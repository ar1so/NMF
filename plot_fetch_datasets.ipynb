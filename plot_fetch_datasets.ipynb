{
 "cells": [
  {
   "cell_type": "markdown",
   "metadata": {},
   "source": [
    "\n",
    "# Fetching atlases and annotations\n",
    "\n",
    "This example demonstrates how to use :mod:`neuromaps.datasets` to fetch\n",
    "atlases and annotations.\n"
   ]
  },
  {
   "cell_type": "markdown",
   "metadata": {},
   "source": [
    "Much of the functionality of the ``neuromaps`` toolbox relies on the\n",
    "atlases and atlas files provided with it. In many cases these atlases are\n",
    "fetched \"behind-the-scenes\" when you call functions that depend on them, but\n",
    "they can be accessed directly.\n",
    "\n",
    "There is a general purpose :func:`neuromaps.datasets.fetch_atlas`\n",
    "function that can fetch any of the atlases provided with ``neuromaps``:\n",
    "\n"
   ]
  },
  {
   "cell_type": "code",
   "execution_count": 1,
   "metadata": {},
   "outputs": [
    {
     "name": "stdout",
     "output_type": "stream",
     "text": [
      "Downloading data from https://files.osf.io/v1/resources/4mw3a/providers/osfstorage/60b684b53a6df1021bd4df2d ...\n"
     ]
    },
    {
     "name": "stderr",
     "output_type": "stream",
     "text": [
      "Downloaded 3735552 of 5482474 bytes (68.1%,    1.4s remaining)"
     ]
    },
    {
     "name": "stdout",
     "output_type": "stream",
     "text": [
      "dict_keys(['midthickness', 'inflated', 'veryinflated', 'sphere', 'medial', 'sulc', 'vaavg'])\n"
     ]
    },
    {
     "name": "stderr",
     "output_type": "stream",
     "text": [
      "\r",
      "Downloaded 5357568 of 5482474 bytes (97.7%,    0.1s remaining) ...done. (7 seconds, 0 min)\n",
      "Extracting data from /Users/ahmadrezasohrabi/neuromaps-data/599046a594e0e45c04e90291c2348cbe/fsLR32k.tar.gz..... done.\n"
     ]
    }
   ],
   "source": [
    "from neuromaps import datasets\n",
    "\n",
    "fslr = datasets.fetch_atlas(atlas='fslr', density='32k')\n",
    "print(fslr.keys())"
   ]
  },
  {
   "cell_type": "markdown",
   "metadata": {},
   "source": [
    "The values corresponding to the keys of the atlas dictionary are length-2\n",
    "lists containing filepaths to the downloaded data. All surface atlas files\n",
    "are provide in gifti format (whereas MNI files are in gzipped nifti format).\n",
    "\n",
    "You can load them directly with ``nibabel`` to confirm their validity:\n",
    "\n"
   ]
  },
  {
   "cell_type": "code",
   "execution_count": 4,
   "metadata": {},
   "outputs": [
    {
     "name": "stdout",
     "output_type": "stream",
     "text": [
      "(32492, 3) (64980, 3)\n"
     ]
    }
   ],
   "source": [
    "import nibabel as nib\n",
    "lsphere, rsphere = fslr['sphere']\n",
    "lvert, ltri = nib.load(lsphere).agg_data()\n",
    "print(lvert.shape, ltri.shape)"
   ]
  },
  {
   "cell_type": "markdown",
   "metadata": {},
   "source": [
    "The other datasets that are provided with ``neuromaps`` are annotations\n",
    "(i.e., brain maps!). While we are slowly making more and more of these openly\n",
    "available, for now only a subset are accessible to the general public; these\n",
    "are returned by default via :func:`datasets.available_annotations`.\n",
    "\n"
   ]
  },
  {
   "cell_type": "code",
   "execution_count": 5,
   "metadata": {},
   "outputs": [
    {
     "name": "stdout",
     "output_type": "stream",
     "text": [
      "Available annotations: 78\n"
     ]
    }
   ],
   "source": [
    "annotations = datasets.available_annotations()\n",
    "print(f'Available annotations: {len(annotations)}')"
   ]
  },
  {
   "cell_type": "markdown",
   "metadata": {},
   "source": [
    "The :func:`~.available_annotations` function accepts a number of keyword\n",
    "arguments that you can use to query specific datasets. For example, providing\n",
    "the `format='volume`' argument will return only those annotations that\n",
    "are, by default, a volumetric image:\n",
    "\n"
   ]
  },
  {
   "cell_type": "code",
   "execution_count": 6,
   "metadata": {},
   "outputs": [
    {
     "name": "stdout",
     "output_type": "stream",
     "text": [
      "Available volumetric annotations: 39\n"
     ]
    }
   ],
   "source": [
    "volume_annotations = datasets.available_annotations(format='volume')\n",
    "print(f'Available volumetric annotations: {len(volume_annotations)}')"
   ]
  },
  {
   "cell_type": "markdown",
   "metadata": {},
   "source": [
    "There are a number of keyword arguments we can specify to reduce the scope of\n",
    "the annotations returned. Here, `source` specifies where the annotation came\n",
    "from (i.e., a dataset from a manuscript or a data repository or toolbox),\n",
    "`desc` refers to a brief description of the annotation, `space` clarifies\n",
    "which space the annotation is in, and `den` (specific to surface annotations)\n",
    "clarifies the density of the surface on which the annotation is defined:\n",
    "\n"
   ]
  },
  {
   "cell_type": "code",
   "execution_count": 7,
   "metadata": {},
   "outputs": [
    {
     "name": "stdout",
     "output_type": "stream",
     "text": [
      "[('abagen', 'genepc1', 'fsaverage', '10k')]\n"
     ]
    }
   ],
   "source": [
    "annot = datasets.available_annotations(source='abagen', desc='genepc1',\n",
    "                                       space='fsaverage', den='10k')\n",
    "print(annot)"
   ]
  },
  {
   "cell_type": "markdown",
   "metadata": {},
   "source": [
    "Annotations also have tags to help sort them into categories. You can see\n",
    "what tags can be used to query annotations with the :func:`~.available_tags`\n",
    "functions:\n",
    "\n"
   ]
  },
  {
   "cell_type": "code",
   "execution_count": 8,
   "metadata": {},
   "outputs": [
    {
     "name": "stdout",
     "output_type": "stream",
     "text": [
      "['ASL', 'MEG', 'MRI', 'PET', 'fMRI', 'functional', 'genetics', 'meta-analysis', 'metabolism', 'receptors', 'structural']\n"
     ]
    }
   ],
   "source": [
    "tags = datasets.available_tags()\n",
    "print(tags)"
   ]
  },
  {
   "cell_type": "markdown",
   "metadata": {},
   "source": [
    "Tags can be used as a keyword argument with :func:`~.available_annotations`.\n",
    "You can supply either a single tag or a list of tags. Note that supplying a\n",
    "list will only return those annotations that match ALL supplied tags:\n",
    "\n"
   ]
  },
  {
   "cell_type": "code",
   "execution_count": 9,
   "metadata": {},
   "outputs": [
    {
     "name": "stdout",
     "output_type": "stream",
     "text": [
      "[('margulies2016', 'fcgradient01', 'fsLR', '32k'), ('margulies2016', 'fcgradient02', 'fsLR', '32k'), ('margulies2016', 'fcgradient03', 'fsLR', '32k'), ('margulies2016', 'fcgradient04', 'fsLR', '32k'), ('margulies2016', 'fcgradient05', 'fsLR', '32k'), ('margulies2016', 'fcgradient06', 'fsLR', '32k'), ('margulies2016', 'fcgradient07', 'fsLR', '32k'), ('margulies2016', 'fcgradient08', 'fsLR', '32k'), ('margulies2016', 'fcgradient09', 'fsLR', '32k'), ('margulies2016', 'fcgradient10', 'fsLR', '32k'), ('mueller2013', 'intersubjvar', 'fsLR', '164k'), ('neurosynth', 'cogpc1', 'MNI152', '2mm')]\n"
     ]
    }
   ],
   "source": [
    "fmri_annotations = datasets.available_annotations(tags='fMRI')\n",
    "print(fmri_annotations)"
   ]
  },
  {
   "cell_type": "markdown",
   "metadata": {},
   "source": [
    "Once we have an annotation that we want we can use the\n",
    ":func:`neuromaps.datasets.fetch_annotation` to actually download the\n",
    "files. This has a very similar signature to the\n",
    ":func:`~.available_annotations` function, accepting almost all the same\n",
    "keyword arguments to specify which annotations are desired.\n",
    "\n",
    "Here, we'll grab the first principal component of gene expression across the\n",
    "brain (from the Allen Human Brain Atlas):\n",
    "\n"
   ]
  },
  {
   "cell_type": "code",
   "execution_count": 10,
   "metadata": {},
   "outputs": [
    {
     "name": "stdout",
     "output_type": "stream",
     "text": [
      "Downloading data from https://files.osf.io/v1/resources/4mw3a/providers/osfstorage/60c2290118f70b01fca797eb ...\n"
     ]
    },
    {
     "name": "stderr",
     "output_type": "stream",
     "text": [
      " ...done. (2 seconds, 0 min)\n"
     ]
    },
    {
     "name": "stdout",
     "output_type": "stream",
     "text": [
      "Downloading data from https://files.osf.io/v1/resources/4mw3a/providers/osfstorage/60c228f5f3ce9401fa24e521 ...\n",
      "['/Users/ahmadrezasohrabi/neuromaps-data/annotations/abagen/genepc1/fsaverage/source-abagen_desc-genepc1_space-fsaverage_den-10k_hemi-L_feature.func.gii', '/Users/ahmadrezasohrabi/neuromaps-data/annotations/abagen/genepc1/fsaverage/source-abagen_desc-genepc1_space-fsaverage_den-10k_hemi-R_feature.func.gii']\n"
     ]
    },
    {
     "name": "stderr",
     "output_type": "stream",
     "text": [
      " ...done. (1 seconds, 0 min)\n"
     ]
    }
   ],
   "source": [
    "abagen = datasets.fetch_annotation(source='abagen', desc='genepc1')\n",
    "print(abagen)"
   ]
  },
  {
   "cell_type": "markdown",
   "metadata": {},
   "source": [
    "Notice that the returned annotation ``abagen`` is a dictionary. We can subset\n",
    "the dictionary with the appropriate key or, if we know that our query is\n",
    "going to return only one annotation, also provide the `return_single=True`\n",
    "argument to the fetch call:\n",
    "\n"
   ]
  },
  {
   "cell_type": "code",
   "execution_count": null,
   "metadata": {},
   "outputs": [],
   "source": [
    "abagen = datasets.fetch_annotation(source='abagen', desc='genepc1',\n",
    "                                   return_single=True)\n",
    "print(abagen)"
   ]
  },
  {
   "cell_type": "markdown",
   "metadata": {},
   "source": [
    "And that's it! This example provided a quick overview on how to fetch the\n",
    "various atlases and datasets provided with ``neuromaps``. For more\n",
    "information please refer to the `API reference <ref_datasets>`.\n",
    "\n"
   ]
  }
 ],
 "metadata": {
  "kernelspec": {
   "display_name": "Python 3 (ipykernel)",
   "language": "python",
   "name": "python3"
  },
  "language_info": {
   "codemirror_mode": {
    "name": "ipython",
    "version": 3
   },
   "file_extension": ".py",
   "mimetype": "text/x-python",
   "name": "python",
   "nbconvert_exporter": "python",
   "pygments_lexer": "ipython3",
   "version": "3.9.7"
  }
 },
 "nbformat": 4,
 "nbformat_minor": 1
}
