{
 "cells": [
  {
   "cell_type": "code",
   "execution_count": 3,
   "id": "f5aa818e",
   "metadata": {},
   "outputs": [],
   "source": [
    "import pandas as pd\n",
    "import numpy as np\n",
    "import matplotlib.pyplot as plt\n",
    "import seaborn as sns\n",
    "from sklearn.preprocessing import StandardScaler\n",
    "from sklearn.decomposition import NMF\n",
    "from sklearn import decomposition\n",
    "from scipy.stats import norm\n",
    "from opnmf import model, logging\n",
    "import opnmf"
   ]
  },
  {
   "cell_type": "code",
   "execution_count": 4,
   "id": "9078c99f",
   "metadata": {},
   "outputs": [],
   "source": [
    "# CSV Reading\n",
    "merge_file = pd.read_csv(\"merge.csv\")"
   ]
  },
  {
   "cell_type": "code",
   "execution_count": 5,
   "id": "3359ed0a",
   "metadata": {},
   "outputs": [],
   "source": [
    "df = merge_file.copy()\n",
    "column_get = df.columns[1:-1]\n",
    "df_2 = df[column_get]\n",
    "df = df_2"
   ]
  },
  {
   "cell_type": "code",
   "execution_count": null,
   "id": "b8167316",
   "metadata": {},
   "outputs": [],
   "source": [
    "def normalization():\n",
    "    # Create StandardScaler and fit \n",
    "    scaler = StandardScaler()\n",
    "    scaler.fit(data)\n",
    "\n",
    "    # Transform data\n",
    "    normalized_data = scaler.transform(data)  \n",
    "    normalized_data = pd.DataFrame(normalized_data, columns=data.columns)\n",
    "    \n",
    "    #Assay the normalizide was conducted or not\n",
    "    \n",
    "    if not normalized_data[normalized_data < 0] : "
   ]
  },
  {
   "cell_type": "code",
   "execution_count": null,
   "id": "449cfe74",
   "metadata": {},
   "outputs": [],
   "source": [
    "def shifting_values_min()\n",
    "\n",
    "    for col in normalized_data.columns:\n",
    "    \n",
    "        # Get column min \n",
    "        min_val = normalized_data[col].min()\n",
    "        \n",
    "        # Shift column by its min value\n",
    "        normalized_data[col] = normalized_data[col] + abs(min_val)\n",
    "        \n",
    "\n",
    "        #After checking all of the columns were 0 in the min value"
   ]
  }
 ],
 "metadata": {
  "kernelspec": {
   "display_name": "Python 3 (ipykernel)",
   "language": "python",
   "name": "python3"
  },
  "language_info": {
   "codemirror_mode": {
    "name": "ipython",
    "version": 3
   },
   "file_extension": ".py",
   "mimetype": "text/x-python",
   "name": "python",
   "nbconvert_exporter": "python",
   "pygments_lexer": "ipython3",
   "version": "3.9.7"
  }
 },
 "nbformat": 4,
 "nbformat_minor": 5
}
