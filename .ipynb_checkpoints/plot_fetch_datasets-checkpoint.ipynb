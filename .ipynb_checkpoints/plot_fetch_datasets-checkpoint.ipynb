{
 "cells": [
  {
   "cell_type": "markdown",
   "metadata": {},
   "source": [
    "\n",
    "# Fetching atlases and annotations\n",
    "\n",
    "This example demonstrates how to use :mod:`neuromaps.datasets` to fetch\n",
    "atlases and annotations.\n"
   ]
  },
  {
   "cell_type": "markdown",
   "metadata": {},
   "source": [
    "Much of the functionality of the ``neuromaps`` toolbox relies on the\n",
    "atlases and atlas files provided with it. In many cases these atlases are\n",
    "fetched \"behind-the-scenes\" when you call functions that depend on them, but\n",
    "they can be accessed directly.\n",
    "\n",
    "There is a general purpose :func:`neuromaps.datasets.fetch_atlas`\n",
    "function that can fetch any of the atlases provided with ``neuromaps``:\n",
    "\n"
   ]
  },
  {
   "cell_type": "code",
   "execution_count": 1,
   "metadata": {},
   "outputs": [
    {
     "ename": "ModuleNotFoundError",
     "evalue": "No module named 'neuromaps'",
     "output_type": "error",
     "traceback": [
      "\u001b[0;31m---------------------------------------------------------------------------\u001b[0m",
      "\u001b[0;31mModuleNotFoundError\u001b[0m                       Traceback (most recent call last)",
      "\u001b[0;32m/var/folders/9k/k1xv6f3d697_1t1nm64y15zm0000gn/T/ipykernel_21788/3558080460.py\u001b[0m in \u001b[0;36m<module>\u001b[0;34m\u001b[0m\n\u001b[0;32m----> 1\u001b[0;31m \u001b[0;32mfrom\u001b[0m \u001b[0mneuromaps\u001b[0m \u001b[0;32mimport\u001b[0m \u001b[0mdatasets\u001b[0m\u001b[0;34m\u001b[0m\u001b[0;34m\u001b[0m\u001b[0m\n\u001b[0m\u001b[1;32m      2\u001b[0m \u001b[0;34m\u001b[0m\u001b[0m\n\u001b[1;32m      3\u001b[0m \u001b[0mfslr\u001b[0m \u001b[0;34m=\u001b[0m \u001b[0mdatasets\u001b[0m\u001b[0;34m.\u001b[0m\u001b[0mfetch_atlas\u001b[0m\u001b[0;34m(\u001b[0m\u001b[0matlas\u001b[0m\u001b[0;34m=\u001b[0m\u001b[0;34m'fslr'\u001b[0m\u001b[0;34m,\u001b[0m \u001b[0mdensity\u001b[0m\u001b[0;34m=\u001b[0m\u001b[0;34m'32k'\u001b[0m\u001b[0;34m)\u001b[0m\u001b[0;34m\u001b[0m\u001b[0;34m\u001b[0m\u001b[0m\n\u001b[1;32m      4\u001b[0m \u001b[0mprint\u001b[0m\u001b[0;34m(\u001b[0m\u001b[0mfslr\u001b[0m\u001b[0;34m.\u001b[0m\u001b[0mkeys\u001b[0m\u001b[0;34m(\u001b[0m\u001b[0;34m)\u001b[0m\u001b[0;34m)\u001b[0m\u001b[0;34m\u001b[0m\u001b[0;34m\u001b[0m\u001b[0m\n",
      "\u001b[0;31mModuleNotFoundError\u001b[0m: No module named 'neuromaps'"
     ]
    }
   ],
   "source": [
    "from neuromaps import datasets\n",
    "\n",
    "fslr = datasets.fetch_atlas(atlas='fslr', density='32k')\n",
    "print(fslr.keys())"
   ]
  },
  {
   "cell_type": "markdown",
   "metadata": {},
   "source": [
    "The values corresponding to the keys of the atlas dictionary are length-2\n",
    "lists containing filepaths to the downloaded data. All surface atlas files\n",
    "are provide in gifti format (whereas MNI files are in gzipped nifti format).\n",
    "\n",
    "You can load them directly with ``nibabel`` to confirm their validity:\n",
    "\n"
   ]
  },
  {
   "cell_type": "code",
   "execution_count": null,
   "metadata": {},
   "outputs": [],
   "source": [
    "import nibabel as nib\n",
    "lsphere, rsphere = fslr['sphere']\n",
    "lvert, ltri = nib.load(lsphere).agg_data()\n",
    "print(lvert.shape, ltri.shape)"
   ]
  },
  {
   "cell_type": "markdown",
   "metadata": {},
   "source": [
    "The other datasets that are provided with ``neuromaps`` are annotations\n",
    "(i.e., brain maps!). While we are slowly making more and more of these openly\n",
    "available, for now only a subset are accessible to the general public; these\n",
    "are returned by default via :func:`datasets.available_annotations`.\n",
    "\n"
   ]
  },
  {
   "cell_type": "code",
   "execution_count": null,
   "metadata": {},
   "outputs": [],
   "source": [
    "annotations = datasets.available_annotations()\n",
    "print(f'Available annotations: {len(annotations)}')"
   ]
  },
  {
   "cell_type": "markdown",
   "metadata": {},
   "source": [
    "The :func:`~.available_annotations` function accepts a number of keyword\n",
    "arguments that you can use to query specific datasets. For example, providing\n",
    "the `format='volume`' argument will return only those annotations that\n",
    "are, by default, a volumetric image:\n",
    "\n"
   ]
  },
  {
   "cell_type": "code",
   "execution_count": null,
   "metadata": {},
   "outputs": [],
   "source": [
    "volume_annotations = datasets.available_annotations(format='volume')\n",
    "print(f'Available volumetric annotations: {len(volume_annotations)}')"
   ]
  },
  {
   "cell_type": "markdown",
   "metadata": {},
   "source": [
    "There are a number of keyword arguments we can specify to reduce the scope of\n",
    "the annotations returned. Here, `source` specifies where the annotation came\n",
    "from (i.e., a dataset from a manuscript or a data repository or toolbox),\n",
    "`desc` refers to a brief description of the annotation, `space` clarifies\n",
    "which space the annotation is in, and `den` (specific to surface annotations)\n",
    "clarifies the density of the surface on which the annotation is defined:\n",
    "\n"
   ]
  },
  {
   "cell_type": "code",
   "execution_count": null,
   "metadata": {},
   "outputs": [],
   "source": [
    "annot = datasets.available_annotations(source='abagen', desc='genepc1',\n",
    "                                       space='fsaverage', den='10k')\n",
    "print(annot)"
   ]
  },
  {
   "cell_type": "markdown",
   "metadata": {},
   "source": [
    "Annotations also have tags to help sort them into categories. You can see\n",
    "what tags can be used to query annotations with the :func:`~.available_tags`\n",
    "functions:\n",
    "\n"
   ]
  },
  {
   "cell_type": "code",
   "execution_count": null,
   "metadata": {},
   "outputs": [],
   "source": [
    "tags = datasets.available_tags()\n",
    "print(tags)"
   ]
  },
  {
   "cell_type": "markdown",
   "metadata": {},
   "source": [
    "Tags can be used as a keyword argument with :func:`~.available_annotations`.\n",
    "You can supply either a single tag or a list of tags. Note that supplying a\n",
    "list will only return those annotations that match ALL supplied tags:\n",
    "\n"
   ]
  },
  {
   "cell_type": "code",
   "execution_count": null,
   "metadata": {},
   "outputs": [],
   "source": [
    "fmri_annotations = datasets.available_annotations(tags='fMRI')\n",
    "print(fmri_annotations)"
   ]
  },
  {
   "cell_type": "markdown",
   "metadata": {},
   "source": [
    "Once we have an annotation that we want we can use the\n",
    ":func:`neuromaps.datasets.fetch_annotation` to actually download the\n",
    "files. This has a very similar signature to the\n",
    ":func:`~.available_annotations` function, accepting almost all the same\n",
    "keyword arguments to specify which annotations are desired.\n",
    "\n",
    "Here, we'll grab the first principal component of gene expression across the\n",
    "brain (from the Allen Human Brain Atlas):\n",
    "\n"
   ]
  },
  {
   "cell_type": "code",
   "execution_count": null,
   "metadata": {},
   "outputs": [],
   "source": [
    "abagen = datasets.fetch_annotation(source='abagen', desc='genepc1')\n",
    "print(abagen)"
   ]
  },
  {
   "cell_type": "markdown",
   "metadata": {},
   "source": [
    "Notice that the returned annotation ``abagen`` is a dictionary. We can subset\n",
    "the dictionary with the appropriate key or, if we know that our query is\n",
    "going to return only one annotation, also provide the `return_single=True`\n",
    "argument to the fetch call:\n",
    "\n"
   ]
  },
  {
   "cell_type": "code",
   "execution_count": null,
   "metadata": {},
   "outputs": [],
   "source": [
    "abagen = datasets.fetch_annotation(source='abagen', desc='genepc1',\n",
    "                                   return_single=True)\n",
    "print(abagen)"
   ]
  },
  {
   "cell_type": "markdown",
   "metadata": {},
   "source": [
    "And that's it! This example provided a quick overview on how to fetch the\n",
    "various atlases and datasets provided with ``neuromaps``. For more\n",
    "information please refer to the `API reference <ref_datasets>`.\n",
    "\n"
   ]
  }
 ],
 "metadata": {
  "kernelspec": {
   "display_name": "Python 3 (ipykernel)",
   "language": "python",
   "name": "python3"
  },
  "language_info": {
   "codemirror_mode": {
    "name": "ipython",
    "version": 3
   },
   "file_extension": ".py",
   "mimetype": "text/x-python",
   "name": "python",
   "nbconvert_exporter": "python",
   "pygments_lexer": "ipython3",
   "version": "3.9.7"
  }
 },
 "nbformat": 4,
 "nbformat_minor": 1
}
