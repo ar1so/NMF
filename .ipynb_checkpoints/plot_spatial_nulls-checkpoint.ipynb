{
 "cells": [
  {
   "cell_type": "markdown",
   "metadata": {},
   "source": [
    "\n",
    "# Using spatial null models\n",
    "\n",
    "This example demonstrates how to use spatial null models in\n",
    ":mod:`neuromaps.nulls` to test the correlation between two brain\n",
    "annotations.\n"
   ]
  },
  {
   "cell_type": "markdown",
   "metadata": {},
   "source": [
    "The brain—and most features derived from it—is spatially autocorrelated, and\n",
    "therefore when making comparisons between brain features we need to account\n",
    "for this spatial autocorrelation.\n",
    "\n",
    "Enter: spatial null models.\n",
    "\n",
    "Spatial null models need to be used whenever you're comparing brain maps. In\n",
    "order to demonstrate how use them in ``neuromaps`` we need two\n",
    "annotations to compare. We'll use the first principal component of cognitive\n",
    "terms from NeuroSynth (Yarkoni et al., 2011, Nat Methods) and the first\n",
    "principal component of gene expression across the brain (from the Allen Human\n",
    "Brain Atlas).\n",
    "\n",
    "Note that we pass `return_single=True` to\n",
    ":func:`neuromaps.datasets.fetch_annotation` so that the returned data are\n",
    "a list of filepaths rather than the default dictionary format. (This only\n",
    "works since we know that there is only one annotation matching our query; a\n",
    "dictionary will always be returned if multiple annotations match our query.)\n",
    "\n"
   ]
  },
  {
   "cell_type": "code",
   "execution_count": 1,
   "metadata": {},
   "outputs": [
    {
     "ename": "ModuleNotFoundError",
     "evalue": "No module named 'neuromaps'",
     "output_type": "error",
     "traceback": [
      "\u001b[0;31m---------------------------------------------------------------------------\u001b[0m",
      "\u001b[0;31mModuleNotFoundError\u001b[0m                       Traceback (most recent call last)",
      "\u001b[0;32m/var/folders/9k/k1xv6f3d697_1t1nm64y15zm0000gn/T/ipykernel_21795/2404020617.py\u001b[0m in \u001b[0;36m<module>\u001b[0;34m\u001b[0m\n\u001b[0;32m----> 1\u001b[0;31m \u001b[0;32mfrom\u001b[0m \u001b[0mneuromaps\u001b[0m \u001b[0;32mimport\u001b[0m \u001b[0mdatasets\u001b[0m\u001b[0;34m\u001b[0m\u001b[0;34m\u001b[0m\u001b[0m\n\u001b[0m\u001b[1;32m      2\u001b[0m \u001b[0mnsynth\u001b[0m \u001b[0;34m=\u001b[0m \u001b[0mdatasets\u001b[0m\u001b[0;34m.\u001b[0m\u001b[0mfetch_annotation\u001b[0m\u001b[0;34m(\u001b[0m\u001b[0msource\u001b[0m\u001b[0;34m=\u001b[0m\u001b[0;34m'neurosynth'\u001b[0m\u001b[0;34m,\u001b[0m \u001b[0mreturn_single\u001b[0m\u001b[0;34m=\u001b[0m\u001b[0;32mTrue\u001b[0m\u001b[0;34m)\u001b[0m\u001b[0;34m\u001b[0m\u001b[0;34m\u001b[0m\u001b[0m\n\u001b[1;32m      3\u001b[0m \u001b[0mgenepc\u001b[0m \u001b[0;34m=\u001b[0m \u001b[0mdatasets\u001b[0m\u001b[0;34m.\u001b[0m\u001b[0mfetch_annotation\u001b[0m\u001b[0;34m(\u001b[0m\u001b[0mdesc\u001b[0m\u001b[0;34m=\u001b[0m\u001b[0;34m'genepc1'\u001b[0m\u001b[0;34m,\u001b[0m \u001b[0mreturn_single\u001b[0m\u001b[0;34m=\u001b[0m\u001b[0;32mTrue\u001b[0m\u001b[0;34m)\u001b[0m\u001b[0;34m\u001b[0m\u001b[0;34m\u001b[0m\u001b[0m\n\u001b[1;32m      4\u001b[0m \u001b[0mprint\u001b[0m\u001b[0;34m(\u001b[0m\u001b[0;34m'Neurosynth: '\u001b[0m\u001b[0;34m,\u001b[0m \u001b[0mnsynth\u001b[0m\u001b[0;34m)\u001b[0m\u001b[0;34m\u001b[0m\u001b[0;34m\u001b[0m\u001b[0m\n\u001b[1;32m      5\u001b[0m \u001b[0mprint\u001b[0m\u001b[0;34m(\u001b[0m\u001b[0;34m'Gene PC1: '\u001b[0m\u001b[0;34m,\u001b[0m \u001b[0mgenepc\u001b[0m\u001b[0;34m)\u001b[0m\u001b[0;34m\u001b[0m\u001b[0;34m\u001b[0m\u001b[0m\n",
      "\u001b[0;31mModuleNotFoundError\u001b[0m: No module named 'neuromaps'"
     ]
    }
   ],
   "source": [
    "from neuromaps import datasets\n",
    "nsynth = datasets.fetch_annotation(source='neurosynth', return_single=True)\n",
    "genepc = datasets.fetch_annotation(desc='genepc1', return_single=True)\n",
    "print('Neurosynth: ', nsynth)\n",
    "print('Gene PC1: ', genepc)"
   ]
  },
  {
   "cell_type": "markdown",
   "metadata": {},
   "source": [
    "These annotations are in different spaces so we first need to resample them\n",
    "to the same space. Here, we'll choose to resample them to the 'fsaverage'\n",
    "surface with a '10k' resolution (approx 10k vertices per hemisphere). Note\n",
    "that the `genepc1` is already in this space so no resampling will be\n",
    "performed for those data. (We could alternatively specify 'transform_to_trg'\n",
    "for the `resampling` parameter and achieve the same outcome.)\n",
    "\n",
    "The data returned will always be pre-loaded nibabel image instances:\n",
    "\n"
   ]
  },
  {
   "cell_type": "code",
   "execution_count": null,
   "metadata": {},
   "outputs": [],
   "source": [
    "from neuromaps import resampling\n",
    "nsynth, genepc = resampling.resample_images(src=nsynth, trg=genepc,\n",
    "                                            src_space='MNI152',\n",
    "                                            trg_space='fsaverage',\n",
    "                                            resampling='transform_to_alt',\n",
    "                                            alt_spec=('fsaverage', '10k'))\n",
    "print(nsynth, genepc)"
   ]
  },
  {
   "cell_type": "markdown",
   "metadata": {},
   "source": [
    "Once the images are resampled we can easily correlate them:\n",
    "\n"
   ]
  },
  {
   "cell_type": "code",
   "execution_count": null,
   "metadata": {},
   "outputs": [],
   "source": [
    "from neuromaps import stats\n",
    "corr = stats.compare_images(nsynth, genepc)\n",
    "print(f'Correlation: r = {corr:.02f}')"
   ]
  },
  {
   "cell_type": "markdown",
   "metadata": {},
   "source": [
    "What if we want to assess the statistical significance of this correlation?\n",
    "In this case, we can use a null model from the :mod:`neuromaps.nulls` module.\n",
    "\n",
    "Here, we'll employ the null model proposed in Alexander-Bloch et al., 2018,\n",
    "*NeuroImage*. We provide one of the maps we're comparing, the space + density\n",
    "of the map, and the number of permutations we want to generate. The returned\n",
    "array will have two dimensions, where each row corresponds to a vertex and\n",
    "each column to a unique permutation.\n",
    "\n",
    "(Note that we need to pass the loaded data from the provided map to the null\n",
    "function so we use the :func:`neuromaps.images.load_data` utility.)\n",
    "\n"
   ]
  },
  {
   "cell_type": "code",
   "execution_count": null,
   "metadata": {},
   "outputs": [],
   "source": [
    "from neuromaps import images, nulls\n",
    "nsynth_data = images.load_data(nsynth)\n",
    "rotated = nulls.alexander_bloch(nsynth_data, atlas='fsaverage', density='10k',\n",
    "                                n_perm=100, seed=1234)\n",
    "print(rotated.shape)"
   ]
  },
  {
   "cell_type": "markdown",
   "metadata": {},
   "source": [
    "We can supply the generated null array to the\n",
    ":func:`neuromaps.stats.compare_images` function and it will be used to\n",
    "generate a non-parameteric p-value. The function assumes that the array\n",
    "provided to the `nulls` parameter corresponds to the *first* dataset passed\n",
    "to the function (i.e., `nsynth`).\n",
    "\n",
    "Note that the correlation remains identical to that above but the p-value is\n",
    "now returned as well:\n",
    "\n"
   ]
  },
  {
   "cell_type": "code",
   "execution_count": null,
   "metadata": {},
   "outputs": [],
   "source": [
    "corr, pval = stats.compare_images(nsynth, genepc, nulls=rotated)\n",
    "print(f'Correlation: r = {corr:.02f}, p = {pval:.04f}')"
   ]
  },
  {
   "cell_type": "markdown",
   "metadata": {},
   "source": [
    "There are a number of different null functions that can be used to generate\n",
    "null maps; they have (nearly) identical function signatures, so refer to the\n",
    "`API reference <ref_nulls>` for more information.\n",
    "\n"
   ]
  }
 ],
 "metadata": {
  "kernelspec": {
   "display_name": "Python 3 (ipykernel)",
   "language": "python",
   "name": "python3"
  },
  "language_info": {
   "codemirror_mode": {
    "name": "ipython",
    "version": 3
   },
   "file_extension": ".py",
   "mimetype": "text/x-python",
   "name": "python",
   "nbconvert_exporter": "python",
   "pygments_lexer": "ipython3",
   "version": "3.9.7"
  }
 },
 "nbformat": 4,
 "nbformat_minor": 1
}
